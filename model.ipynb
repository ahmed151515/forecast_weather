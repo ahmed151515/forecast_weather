{
 "cells": [
  {
   "cell_type": "code",
   "execution_count": 2,
   "id": "f86ccfc6",
   "metadata": {},
   "outputs": [
    {
     "name": "stdout",
     "output_type": "stream",
     "text": [
      "   Unnamed: 0                       date  weather_code  temperature_2m_mean  \\\n",
      "0           0  1939-12-31 21:00:00+00:00           NaN                  NaN   \n",
      "1           1  1940-01-01 21:00:00+00:00           0.0            10.331834   \n",
      "2           2  1940-01-02 21:00:00+00:00           3.0             9.888082   \n",
      "3           3  1940-01-03 21:00:00+00:00           3.0            11.523499   \n",
      "4           4  1940-01-04 21:00:00+00:00           3.0            11.498501   \n",
      "\n",
      "   temperature_2m_max  temperature_2m_min  wind_speed_10m_max  \\\n",
      "0                 NaN                 NaN                 NaN   \n",
      "1           16.048500              5.3985           12.783802   \n",
      "2           15.648499              5.3485           22.183128   \n",
      "3           15.648499              7.4985           14.693999   \n",
      "4           16.448500              7.5985            9.366919   \n",
      "\n",
      "   wind_gusts_10m_max  wind_direction_10m_dominant  shortwave_radiation_sum  \\\n",
      "0                 NaN                          NaN                      NaN   \n",
      "1           27.000000                    216.44214                    14.27   \n",
      "2           46.079998                    210.15837                    11.58   \n",
      "3           32.399998                    270.28012                     9.99   \n",
      "4           15.480000                    344.62366                    13.75   \n",
      "\n",
      "   et0_fao_evapotranspiration  \n",
      "0                         NaN  \n",
      "1                    2.589777  \n",
      "2                    2.826647  \n",
      "3                    2.273656  \n",
      "4                    2.209970  \n"
     ]
    }
   ],
   "source": [
    "import pandas as pd\n",
    "\n",
    "data = pd.read_csv(\"openmeteo_cairo_1940_2025.csv\")\n",
    "\n",
    "print(data.head())"
   ]
  }
 ],
 "metadata": {
  "kernelspec": {
   "display_name": "base",
   "language": "python",
   "name": "python3"
  },
  "language_info": {
   "codemirror_mode": {
    "name": "ipython",
    "version": 3
   },
   "file_extension": ".py",
   "mimetype": "text/x-python",
   "name": "python",
   "nbconvert_exporter": "python",
   "pygments_lexer": "ipython3",
   "version": "3.12.7"
  }
 },
 "nbformat": 4,
 "nbformat_minor": 5
}

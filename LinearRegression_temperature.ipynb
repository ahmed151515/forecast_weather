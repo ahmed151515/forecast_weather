{
 "cells": [
  {
   "cell_type": "code",
   "execution_count": 52,
   "id": "f86ccfc6",
   "metadata": {},
   "outputs": [
    {
     "name": "stdout",
     "output_type": "stream",
     "text": [
      "Index(['id', 'date', 'weather_code', 'temperature_2m_mean',\n",
      "       'temperature_2m_max', 'temperature_2m_min', 'wind_speed_10m_max',\n",
      "       'wind_gusts_10m_max', 'wind_direction_10m_dominant',\n",
      "       'shortwave_radiation_sum', 'et0_fao_evapotranspiration',\n",
      "       'next_day_weather_code'],\n",
      "      dtype='object')\n"
     ]
    }
   ],
   "source": [
    "import pandas as pd\n",
    "\n",
    "df = pd.read_csv(\"final_data.csv\")\n",
    "\n",
    "print(df.columns)"
   ]
  },
  {
   "cell_type": "code",
   "execution_count": null,
   "id": "d580343d",
   "metadata": {},
   "outputs": [
    {
     "name": "stdout",
     "output_type": "stream",
     "text": [
      "Mean Squared Error: 1.9031999105046855\n",
      "R2 Score: 0.9496085814125768\n",
      "accuracy: 0.9496085814125768\n"
     ]
    }
   ],
   "source": [
    "import pandas as pd\n",
    "from sklearn.linear_model import LinearRegression\n",
    "from sklearn.model_selection import train_test_split\n",
    "from sklearn.metrics import mean_squared_error, r2_score, accuracy_score\n",
    "from sklearn.impute import SimpleImputer\n",
    "\n",
    "# Assuming df is your DataFrame\n",
    "# Create the next day's temperature column by shifting the `temperature_2m_mean` column\n",
    "df['next_day_temperature_2m_mean'] = df['temperature_2m_mean'].shift(-1)\n",
    "\n",
    "# Drop the last row because it will have NaN for `next_day_temperature_2m_mean`\n",
    "df = df.dropna(subset=['next_day_temperature_2m_mean'])\n",
    "\n",
    "# Features selection (current day's features)\n",
    "features = ['temperature_2m_mean', 'temperature_2m_max', 'temperature_2m_min', \n",
    "            'wind_speed_10m_max', 'wind_gusts_10m_max', 'wind_direction_10m_dominant', \n",
    "            'shortwave_radiation_sum', 'et0_fao_evapotranspiration']\n",
    "\n",
    "# Target variable (next day's temperature)\n",
    "target = 'next_day_temperature_2m_mean'\n",
    "\n",
    "# Handle missing data by imputing (if necessary)\n",
    "imputer = SimpleImputer(strategy='mean')\n",
    "\n",
    "# Extract features and target variable\n",
    "X = df[features]\n",
    "y = df[target]\n",
    "\n",
    "# Impute missing values\n",
    "X_imputed = imputer.fit_transform(X)\n",
    "\n",
    "# Split the data into training and testing sets\n",
    "X_train, X_test, y_train, y_test = train_test_split(X_imputed, y, test_size=0.3, random_state=42)\n",
    "\n",
    "# Initialize the linear regression model\n",
    "model = LinearRegression()\n",
    "\n",
    "# Train the model\n",
    "model.fit(X_train, y_train)\n",
    "\n",
    "# Predict on the test set\n",
    "y_pred = model.predict(X_test)\n",
    "\n",
    "# Evaluate the model\n",
    "mse = mean_squared_error(y_test, y_pred)\n",
    "r2 = r2_score(y_test, y_pred)*100\n",
    "acc=model.score(X_test, y_test) *100\n",
    "print(f\"Mean Squared Error: {mse}\")\n",
    "print(f\"R2 Score: {r2}\")\n",
    "print(f\"accuracy: {acc}\")\n"
   ]
  }
 ],
 "metadata": {
  "kernelspec": {
   "display_name": "base",
   "language": "python",
   "name": "python3"
  },
  "language_info": {
   "codemirror_mode": {
    "name": "ipython",
    "version": 3
   },
   "file_extension": ".py",
   "mimetype": "text/x-python",
   "name": "python",
   "nbconvert_exporter": "python",
   "pygments_lexer": "ipython3",
   "version": "3.12.7"
  }
 },
 "nbformat": 4,
 "nbformat_minor": 5
}

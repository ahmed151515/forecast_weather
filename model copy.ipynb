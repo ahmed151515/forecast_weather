{
 "cells": [
  {
   "cell_type": "code",
   "execution_count": 44,
   "id": "72c3ea19",
   "metadata": {},
   "outputs": [
    {
     "name": "stdout",
     "output_type": "stream",
     "text": [
      "Index(['Unnamed: 0', 'date', 'weather_code', 'temperature_2m_mean',\n",
      "       'temperature_2m_max', 'temperature_2m_min', 'wind_speed_10m_max',\n",
      "       'wind_gusts_10m_max', 'wind_direction_10m_dominant',\n",
      "       'shortwave_radiation_sum', 'et0_fao_evapotranspiration', 'location'],\n",
      "      dtype='object')\n"
     ]
    },
    {
     "name": "stderr",
     "output_type": "stream",
     "text": [
      "C:\\Users\\PC\\AppData\\Local\\Temp\\ipykernel_23788\\3087352913.py:3: DtypeWarning: Columns (11) have mixed types. Specify dtype option on import or set low_memory=False.\n",
      "  df = pd.read_csv(\"new.csv\")\n"
     ]
    }
   ],
   "source": [
    "import pandas as pd\n",
    "\n",
    "df = pd.read_csv(\"new.csv\")\n",
    "\n",
    "print(df.columns)"
   ]
  },
  {
   "cell_type": "code",
   "execution_count": 47,
   "id": "2d4726c0",
   "metadata": {},
   "outputs": [],
   "source": [
    "# Create next day weather code feature by location\n",
    "df['next_day_weather_code'] = df['weather_code'].shift(-1)\n"
   ]
  },
  {
   "cell_type": "code",
   "execution_count": 48,
   "id": "b11c6c86",
   "metadata": {},
   "outputs": [
    {
     "name": "stdout",
     "output_type": "stream",
     "text": [
      "Accuracy: 50.9360\n",
      "\n",
      "Sample predictions (original weather codes):\n",
      "True: 0.0, Predicted: 0.0\n",
      "True: 2.0, Predicted: 0.0\n",
      "True: 1.0, Predicted: 3.0\n",
      "True: 3.0, Predicted: 3.0\n",
      "True: 0.0, Predicted: 3.0\n",
      "True: 0.0, Predicted: 0.0\n",
      "True: 2.0, Predicted: 0.0\n",
      "True: 3.0, Predicted: 3.0\n",
      "True: 0.0, Predicted: 0.0\n",
      "True: 3.0, Predicted: 3.0\n",
      "              precision    recall  f1-score   support\n",
      "\n",
      "           0       0.59      0.76      0.66      4466\n",
      "           1       0.31      0.02      0.04      1781\n",
      "           2       0.33      0.00      0.01      1745\n",
      "           3       0.49      0.83      0.62      7006\n",
      "           4       0.26      0.14      0.18      1318\n",
      "           5       0.33      0.00      0.00       482\n",
      "           6       0.00      0.00      0.00       152\n",
      "           7       0.24      0.04      0.07       284\n",
      "           8       0.00      0.00      0.00       118\n",
      "           9       0.00      0.00      0.00         4\n",
      "          10       0.31      0.10      0.16       864\n",
      "          11       0.48      0.08      0.14       455\n",
      "          12       0.00      0.00      0.00        21\n",
      "\n",
      "    accuracy                           0.51     18696\n",
      "   macro avg       0.26      0.15      0.14     18696\n",
      "weighted avg       0.44      0.51      0.42     18696\n",
      "\n",
      "\n",
      "Top 10 Important Features:\n",
      "                       Feature  Importance\n",
      "0                 weather_code    0.442056\n",
      "1          temperature_2m_mean    0.238376\n",
      "2           temperature_2m_max    0.120272\n",
      "8   et0_fao_evapotranspiration    0.070889\n",
      "3           temperature_2m_min    0.032357\n",
      "6  wind_direction_10m_dominant    0.029204\n",
      "7      shortwave_radiation_sum    0.028482\n",
      "4           wind_speed_10m_max    0.019606\n",
      "5           wind_gusts_10m_max    0.018758\n"
     ]
    },
    {
     "name": "stderr",
     "output_type": "stream",
     "text": [
      "d:\\anaconda3\\Lib\\site-packages\\sklearn\\metrics\\_classification.py:1531: UndefinedMetricWarning: Precision is ill-defined and being set to 0.0 in labels with no predicted samples. Use `zero_division` parameter to control this behavior.\n",
      "  _warn_prf(average, modifier, f\"{metric.capitalize()} is\", len(result))\n",
      "d:\\anaconda3\\Lib\\site-packages\\sklearn\\metrics\\_classification.py:1531: UndefinedMetricWarning: Precision is ill-defined and being set to 0.0 in labels with no predicted samples. Use `zero_division` parameter to control this behavior.\n",
      "  _warn_prf(average, modifier, f\"{metric.capitalize()} is\", len(result))\n",
      "d:\\anaconda3\\Lib\\site-packages\\sklearn\\metrics\\_classification.py:1531: UndefinedMetricWarning: Precision is ill-defined and being set to 0.0 in labels with no predicted samples. Use `zero_division` parameter to control this behavior.\n",
      "  _warn_prf(average, modifier, f\"{metric.capitalize()} is\", len(result))\n"
     ]
    }
   ],
   "source": [
    "import numpy as np\n",
    "import xgboost as xgb\n",
    "from sklearn.model_selection import train_test_split\n",
    "from sklearn.metrics import accuracy_score, classification_report\n",
    "\n",
    "import matplotlib.pyplot as plt\n",
    "\n",
    "# Drop rows with NaN values in critical columns\n",
    "df_clean = df.dropna(subset=['weather_code', 'next_day_weather_code'])\n",
    "\n",
    "# # Convert date to datetime if it's not already\n",
    "# df_clean['date'] = pd.to_datetime(df_clean['date'])\n",
    "\n",
    "# # Extract time-based features\n",
    "# df_clean['year'] = df_clean['date'].dt.year\n",
    "# df_clean['month'] = df_clean['date'].dt.month\n",
    "# df_clean['day'] = df_clean['date'].dt.day\n",
    "# df_clean['dayofweek'] = df_clean['date'].dt.dayofweek\n",
    "\n",
    "# One-hot encode location\n",
    "# df_clean = pd.get_dummies(df_clean, columns=['location'])\n",
    "\n",
    "# Define features and target\n",
    "X = df_clean.drop(['next_day_weather_code', 'date', 'Unnamed: 0','location'], axis=1)\n",
    "y = df_clean['next_day_weather_code']\n",
    "\n",
    "\n",
    "# Use LabelEncoder to transform weather codes to consecutive integers\n",
    "from sklearn.preprocessing import LabelEncoder\n",
    "label_encoder = LabelEncoder()\n",
    "y_encoded = label_encoder.fit_transform(y)\n",
    "\n",
    "# Print original classes and their encoded values\n",
    "# print(\"Original weather codes and their encoded values:\")\n",
    "# for i, orig_class in enumerate(label_encoder.classes_):\n",
    "#     print(f\"Original: {orig_class} -> Encoded: {i}\")\n",
    "\n",
    "# Split data using encoded labels\n",
    "X_train, X_test, y_train, y_test = train_test_split(X, y_encoded, test_size=0.2, random_state=42)\n",
    "\n",
    "# Train XGBoost classifier\n",
    "model = xgb.XGBClassifier(max_depth=5, learning_rate=0.1, n_estimators=100, random_state=42)\n",
    "model.fit(X_train, y_train)\n",
    "\n",
    "# Make predictions\n",
    "y_pred = model.predict(X_test)\n",
    "\n",
    "# Convert predictions back to original weather codes for interpretation\n",
    "y_pred_original = label_encoder.inverse_transform(y_pred)\n",
    "y_test_original = label_encoder.inverse_transform(y_test)\n",
    "\n",
    "# # Evaluate the model\n",
    "print(f\"Accuracy: {accuracy_score(y_test, y_pred)*100:.4f}\")\n",
    "# print(\"\\nClassification Report:\")\n",
    "# print(classification_report(y_test, y_pred, target_names=[str(c) for c in label_encoder.classes_]))\n",
    "\n",
    "# Print a sample of predictions (original weather codes)\n",
    "print(\"\\nSample predictions (original weather codes):\")\n",
    "sample_indices = range(min(10, len(y_test)))\n",
    "for i in sample_indices:\n",
    "    print(f\"True: {y_test_original[i]}, Predicted: {y_pred_original[i]}\")\n",
    "# Feature importance analysis\n",
    "print(classification_report(y_test, y_pred))\n",
    "\n",
    "# Feature importance\n",
    "importance = model.feature_importances_\n",
    "feature_names = X.columns\n",
    "feature_importance = pd.DataFrame({'Feature': feature_names, 'Importance': importance})\n",
    "feature_importance = feature_importance.sort_values('Importance', ascending=False)\n",
    "print(\"\\nTop 10 Important Features:\")\n",
    "print(feature_importance.head(10))\n",
    "\n",
    "# Visualize feature importance\n",
    "# plt.figure(figsize=(12, 6))\n",
    "# plt.barh(feature_importance['Feature'][:10], feature_importance['Importance'][:10])\n",
    "# plt.xlabel('Importance')\n",
    "# plt.ylabel('Feature')\n",
    "# plt.title('Top 10 Feature Importance for Next Day Weather Code Prediction')\n",
    "# plt.tight_layout()\n",
    "# plt.show()"
   ]
  }
 ],
 "metadata": {
  "kernelspec": {
   "display_name": "base",
   "language": "python",
   "name": "python3"
  },
  "language_info": {
   "codemirror_mode": {
    "name": "ipython",
    "version": 3
   },
   "file_extension": ".py",
   "mimetype": "text/x-python",
   "name": "python",
   "nbconvert_exporter": "python",
   "pygments_lexer": "ipython3",
   "version": "3.12.7"
  }
 },
 "nbformat": 4,
 "nbformat_minor": 5
}

{
 "cells": [
  {
   "cell_type": "markdown",
   "id": "56ae41ef",
   "metadata": {},
   "source": [
    "# Get data"
   ]
  },
  {
   "cell_type": "code",
   "execution_count": 33,
   "id": "346ffbd7",
   "metadata": {},
   "outputs": [
    {
     "name": "stdout",
     "output_type": "stream",
     "text": [
      "Index(['month', 'day', 'temperature_2m_mean', 'temperature_2m_max',\n",
      "       'temperature_2m_min', 'wind_speed_10m_max', 'wind_gusts_10m_max',\n",
      "       'wind_direction_10m_dominant', 'shortwave_radiation_sum',\n",
      "       'et0_fao_evapotranspiration'],\n",
      "      dtype='object')\n",
      "Cloudy       99658\n",
      "Clear sky    31551\n",
      "Rain         27549\n",
      "Snow         17688\n",
      "Name: next_day_weather_status, dtype: int64\n"
     ]
    }
   ],
   "source": [
    "import pandas as pd\n",
    "\n",
    "data = pd.read_csv(\"final_new.csv\")\n",
    "data = data[data['next_day_weather_status'] != 'Drizzle']\n",
    "\n",
    "X = data.drop(['next_day_weather_status', 'date','id', 'weather_code', 'weather_status'], axis=1)\n",
    "y = data['next_day_weather_status']\n",
    "\n",
    "print(X.columns)\n",
    "\n",
    "print(y.value_counts())"
   ]
  },
  {
   "cell_type": "markdown",
   "id": "0000d8c6",
   "metadata": {},
   "source": [
    "# data is Unbalanced so use Synthetic Data Generation"
   ]
  },
  {
   "cell_type": "code",
   "execution_count": 34,
   "id": "0d2138fc",
   "metadata": {},
   "outputs": [
    {
     "name": "stdout",
     "output_type": "stream",
     "text": [
      "Rain         99661\n",
      "Clear sky    99660\n",
      "Snow         99659\n",
      "Cloudy       99658\n",
      "Name: next_day_weather_status, dtype: int64\n"
     ]
    }
   ],
   "source": [
    "from imblearn.over_sampling import SMOTE, BorderlineSMOTE,SVMSMOTE,KMeansSMOTE \n",
    "# smote = SMOTE(random_state=42)\n",
    "smote = KMeansSMOTE(random_state=42) # the best\n",
    "X_resampled, y_resampled = smote.fit_resample(X, y)\n",
    "print(y_resampled.value_counts())"
   ]
  },
  {
   "cell_type": "markdown",
   "id": "7ec9724c",
   "metadata": {},
   "source": [
    "# Train model "
   ]
  },
  {
   "cell_type": "code",
   "execution_count": null,
   "id": "5f311cf6",
   "metadata": {},
   "outputs": [],
   "source": [
    "from sklearn.ensemble import RandomForestClassifier  \n",
    "from sklearn.model_selection import train_test_split\n",
    "\n",
    "\n",
    "X_train, X_test, y_train, y_test = train_test_split(X_resampled, y_resampled, test_size=0.2, random_state=42)\n",
    "\n",
    "\n",
    "model = RandomForestClassifier(random_state=42)  \n",
    "\n",
    "model.fit(X_train, y_train)\n",
    "\n",
    "\n",
    "y_pred = model.predict(X_test)\n",
    "\n"
   ]
  },
  {
   "cell_type": "markdown",
   "id": "2db1a3c2",
   "metadata": {},
   "source": [
    "# metrics"
   ]
  },
  {
   "cell_type": "code",
   "execution_count": 39,
   "id": "3cc4d843",
   "metadata": {},
   "outputs": [
    {
     "name": "stdout",
     "output_type": "stream",
     "text": [
      "Accuracy: 86.7173\n",
      "\n",
      "Classification Report:\n",
      "              precision    recall  f1-score   support\n",
      "\n",
      "   Clear sky       0.87      0.88      0.87     20153\n",
      "      Cloudy       0.74      0.73      0.73     19935\n",
      "        Rain       0.96      0.96      0.96     19763\n",
      "        Snow       0.90      0.90      0.90     19877\n",
      "\n",
      "    accuracy                           0.87     79728\n",
      "   macro avg       0.87      0.87      0.87     79728\n",
      "weighted avg       0.87      0.87      0.87     79728\n",
      "\n"
     ]
    }
   ],
   "source": [
    "from sklearn.metrics import accuracy_score, classification_report\n",
    "\n",
    "print(f\"Accuracy: {accuracy_score(y_test, y_pred)*100:.4f}\")\n",
    "print(\"\\nClassification Report:\")\n",
    "print(classification_report(y_test, y_pred))\n"
   ]
  }
 ],
 "metadata": {
  "kernelspec": {
   "display_name": "base",
   "language": "python",
   "name": "python3"
  },
  "language_info": {
   "codemirror_mode": {
    "name": "ipython",
    "version": 3
   },
   "file_extension": ".py",
   "mimetype": "text/x-python",
   "name": "python",
   "nbconvert_exporter": "python",
   "pygments_lexer": "ipython3",
   "version": "3.12.7"
  }
 },
 "nbformat": 4,
 "nbformat_minor": 5
}
